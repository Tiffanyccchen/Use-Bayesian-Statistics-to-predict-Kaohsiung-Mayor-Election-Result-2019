{
 "cells": [
  {
   "cell_type": "code",
   "execution_count": 18,
   "metadata": {},
   "outputs": [],
   "source": [
    "from scipy.stats import beta\n",
    "import random\n",
    "import pandas as pd\n",
    "import seaborn as sns\n",
    "import matplotlib.pyplot as plt\n",
    "import numpy as np\n",
    "fig, ax = plt.subplots(1, 1)\n",
    "%matplotlib inline"
   ]
  },
  {
   "cell_type": "code",
   "execution_count": 28,
   "metadata": {},
   "outputs": [],
   "source": [
    "#han chen all data construction\n",
    "Y1=[230,381,326,331,523,472,426,457,442,560,420,476,526,463,451,431]\n",
    "Y2=[801,442,442,360,523,354,366,365,453,506,418,290,344,424,415,463]\n",
    "N=[1317,1074,1079,1075,1000,1096,1000,1009,1023,1077,1068,1069,1074,1090,1274,1063]\n"
   ]
  },
  {
   "cell_type": "code",
   "execution_count": 29,
   "metadata": {},
   "outputs": [],
   "source": [
    "#han chen November data construction\n",
    "Y111=[426,457,442,560,420,476,526,463,451,431]\n",
    "Y211=[366,365,453,506,418,290,344,424,415,463]\n",
    "N11=[1000,1009,1023,1077,1068,1069,1074,1090,1274,1063]"
   ]
  },
  {
   "cell_type": "code",
   "execution_count": 67,
   "metadata": {},
   "outputs": [],
   "source": [
    "def priorposterior(Y,N):\n",
    "    alph=3\n",
    "    bet=3\n",
    "    for i in range(len(Y)):\n",
    "        a=Y[i]\n",
    "        b=N[i]-Y[i]\n",
    "        alph=a+alph\n",
    "        bet=b+bet\n",
    "        ppdf=beta(alph,bet)\n",
    "    return alph,bet"
   ]
  },
  {
   "cell_type": "code",
   "execution_count": 78,
   "metadata": {},
   "outputs": [
    {
     "name": "stdout",
     "output_type": "stream",
     "text": [
      "(6918, 10476)\n",
      "0.3977\n",
      "0.3977\n",
      "0.0037\n"
     ]
    }
   ],
   "source": [
    "#all data han posterior stats\n",
    "print(priorposterior(Y1,N))\n",
    "#all data han posterior mean\n",
    "print(round(6918/(6918+10476),4))\n",
    "      \n",
    "#all data han posterior mode\n",
    "print(round(6917/(6917+10475),4))\n",
    "\n",
    "#all data han posterior sd\n",
    "print(round((6918*10476/((6918+10476)**2*(6918+10476+1)))**(1/2),4))"
   ]
  },
  {
   "cell_type": "code",
   "execution_count": 62,
   "metadata": {},
   "outputs": [
    {
     "data": {
      "text/plain": [
       "[<matplotlib.lines.Line2D at 0x19dfbaf83c8>]"
      ]
     },
     "execution_count": 62,
     "metadata": {},
     "output_type": "execute_result"
    },
    {
     "data": {
      "image/png": "[encoded data removed]",
      "text/plain": [
       "<Figure size 360x270 with 1 Axes>"
      ]
     },
     "metadata": {},
     "output_type": "display_data"
    }
   ],
   "source": [
    "#all data han posterior plot\n",
    "x = np.linspace(0, 1, 1002)[1:-1]\n",
    "fig, ax = plt.subplots(figsize=(5, 3.75))\n",
    "dist = beta(6918, 10476)\n",
    "\n",
    "plt.plot(x, dist.pdf(x),  c='black',label=r'$\\alpha=%.1f,\\ \\beta=%.1f$' % (6918, 10476))"
   ]
  },
  {
   "cell_type": "code",
   "execution_count": 79,
   "metadata": {},
   "outputs": [
    {
     "name": "stdout",
     "output_type": "stream",
     "text": [
      "(6969, 10425)\n",
      "0.4007\n",
      "0.4006\n",
      "0.0037\n"
     ]
    }
   ],
   "source": [
    "#all data chen posterior stats\n",
    "print(priorposterior(Y2,N))\n",
    "#all data chen posterior mean\n",
    "print(round(6969/(6969+10425),4))      \n",
    "#all data chen posterior mode\n",
    "print(round(6968/(6968+10424),4))\n",
    "#all data chen posterior sd\n",
    "print(round((6969*10425/((6969+10425)**2*(6969+10425+1)))**(1/2),4))"
   ]
  },
  {
   "cell_type": "code",
   "execution_count": 65,
   "metadata": {},
   "outputs": [
    {
     "data": {
      "text/plain": [
       "[<matplotlib.lines.Line2D at 0x19dfbb27b00>]"
      ]
     },
     "execution_count": 65,
     "metadata": {},
     "output_type": "execute_result"
    },
    {
     "data": {
      "image/png": "[encoded data removed]",
      "text/plain": [
       "<Figure size 360x270 with 1 Axes>"
      ]
     },
     "metadata": {},
     "output_type": "display_data"
    }
   ],
   "source": [
    "#all data chen posterior plot\n",
    "x = np.linspace(0, 1, 1002)[1:-1]\n",
    "fig, ax = plt.subplots(figsize=(5, 3.75))\n",
    "dist = beta(6969, 10425)\n",
    "\n",
    "plt.plot(x, dist.pdf(x),  c='black',\n",
    "        label=r'$\\alpha=%.1f,\\ \\beta=%.1f$' % (6969,10425))\n"
   ]
  },
  {
   "cell_type": "code",
   "execution_count": 80,
   "metadata": {},
   "outputs": [
    {
     "name": "stdout",
     "output_type": "stream",
     "text": [
      "(4655, 6101)\n",
      "0.4328\n",
      "0.4328\n",
      "0.0048\n"
     ]
    }
   ],
   "source": [
    "#November data han posterior stats\n",
    "print(priorposterior(Y111,N))\n",
    "#November data han posterior mean\n",
    "print(round(4655/(4655+6101),4))\n",
    "      \n",
    "#November data han posterior mode\n",
    "print(round(4654/(4654+6100),4))\n",
    "\n",
    "#November data han posterior sd\n",
    "print(round((4655*6101/((4655+6101)**2*(4655+6101+1)))**(1/2),4))"
   ]
  },
  {
   "cell_type": "code",
   "execution_count": 71,
   "metadata": {},
   "outputs": [
    {
     "data": {
      "text/plain": [
       "[<matplotlib.lines.Line2D at 0x19dfbb90898>]"
      ]
     },
     "execution_count": 71,
     "metadata": {},
     "output_type": "execute_result"
    },
    {
     "data": {
      "image/png": "[encoded data removed]",
      "text/plain": [
       "<Figure size 360x270 with 1 Axes>"
      ]
     },
     "metadata": {},
     "output_type": "display_data"
    }
   ],
   "source": [
    "#November data han posterior plot\n",
    "x = np.linspace(0, 1, 1002)[1:-1]\n",
    "fig, ax = plt.subplots(figsize=(5, 3.75))\n",
    "dist = beta(4655, 6101)\n",
    "\n",
    "plt.plot(x, dist.pdf(x),  c='black',\n",
    "        label=r'$\\alpha=%.1f,\\ \\beta=%.1f$' % (4655,6101))"
   ]
  },
  {
   "cell_type": "code",
   "execution_count": 81,
   "metadata": {},
   "outputs": [
    {
     "name": "stdout",
     "output_type": "stream",
     "text": [
      "(4047, 6709)\n",
      "0.3763\n",
      "0.3762\n",
      "0.0047\n"
     ]
    }
   ],
   "source": [
    "#November data chen posterior stats\n",
    "print(priorposterior(Y211,N))\n",
    "#November data chen posterior mean\n",
    "print(round(4047/(4047+6709),4))\n",
    "      \n",
    "#November data chen posterior mode\n",
    "print(round(4046/(4046+6708),4))\n",
    "\n",
    "#November data chen posterior sd\n",
    "print(round((4047*6709/((4047+6709)**2*(4047+6709+1)))**(1/2),4))"
   ]
  },
  {
   "cell_type": "code",
   "execution_count": 74,
   "metadata": {
    "scrolled": true
   },
   "outputs": [
    {
     "data": {
      "text/plain": [
       "[<matplotlib.lines.Line2D at 0x19dfbc14908>]"
      ]
     },
     "execution_count": 74,
     "metadata": {},
     "output_type": "execute_result"
    },
    {
     "data": {
      "image/png": "[encoded data removed]",
      "text/plain": [
       "<Figure size 360x270 with 1 Axes>"
      ]
     },
     "metadata": {},
     "output_type": "display_data"
    }
   ],
   "source": [
    "x = np.linspace(0, 1, 1002)[1:-1]\n",
    "fig, ax = plt.subplots(figsize=(5, 3.75))\n",
    "dist = beta(4047, 6709)\n",
    "\n",
    "plt.plot(x, dist.pdf(x),  c='black',\n",
    "        label=r'$\\alpha=%.1f,\\ \\beta=%.1f$' % (4047, 6709))"
   ]
  },
  {
   "cell_type": "code",
   "execution_count": 84,
   "metadata": {},
   "outputs": [
    {
     "name": "stdout",
     "output_type": "stream",
     "text": [
      "0.4915\n",
      "0.4952\n"
     ]
    }
   ],
   "source": [
    "#all sum han chen\n",
    "print(round(0.9867*0.3977/(0.3977+0.4007),4))\n",
    "print(round(0.9867*0.4007/(0.3977+0.4007),4))"
   ]
  },
  {
   "cell_type": "code",
   "execution_count": 85,
   "metadata": {},
   "outputs": [
    {
     "name": "stdout",
     "output_type": "stream",
     "text": [
      "0.5278\n",
      "0.4589\n"
     ]
    }
   ],
   "source": [
    "#November sum han chen\n",
    "print(round(0.9867*0.4328/(0.3763+0.4328),4))\n",
    "print(round(0.9867*0.3763/(0.3763+0.4328),4))"
   ]
  }
 ],
 "metadata": {
  "kernelspec": {
   "display_name": "Python 3",
   "language": "python",
   "name": "python3"
  },
  "language_info": {
   "codemirror_mode": {
    "name": "ipython",
    "version": 3
   },
   "file_extension": ".py",
   "mimetype": "text/x-python",
   "name": "python",
   "nbconvert_exporter": "python",
   "pygments_lexer": "ipython3",
   "version": "3.6.5"
  }
 },
 "nbformat": 4,
 "nbformat_minor": 2
}